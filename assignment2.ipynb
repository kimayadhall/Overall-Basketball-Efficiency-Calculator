{
  "nbformat": 4,
  "nbformat_minor": 0,
  "metadata": {
    "colab": {
      "provenance": []
    },
    "kernelspec": {
      "name": "python3",
      "display_name": "Python 3"
    },
    "language_info": {
      "name": "python"
    }
  },
  "cells": [
    {
      "cell_type": "markdown",
      "source": [
        "Reflect on the hands on session that we had on Introduction to Python programming.\n",
        "\n",
        "You would need to formulate a problem statement that intends to use at least three concepts from (a) Control Structure (b) Functions (c) List Operations (d) Dictionary (e) String Operations (f) Python Libraries and Packages\n",
        "\n",
        "For example, \"write a program that accepts a list of numbers and outputs the square of the numbers\".\n",
        "\n",
        "Please follow the instructions below:\n",
        "\n",
        "[1] The program must be written on a Jupiter notebook. You would need to upload the ipynb file.  \n",
        "\n",
        "[2] Write your question in a markdown cell\n",
        "\n",
        "[3] Write your algorithm in pseudo-code in a markdown cell.\n",
        "\n",
        "Alternatively, if you want to design a flow chat, design using a diagram tool / draw it by hand and upload it to canvas as a part of the assignment. In such cases, zip the ipynb and PNG/JPG files and upload them to canvas.\n",
        "\n",
        "[4] Write your code in a single code-block and print the output by running the code-block."
      ],
      "metadata": {
        "id": "cu8dQNEaIKVN"
      }
    },
    {
      "cell_type": "markdown",
      "source": [
        "Question: What is my overall basketball efficiency (and provide tips to improve)?"
      ],
      "metadata": {
        "id": "kr2Eg_-KlVGf"
      }
    },
    {
      "cell_type": "code",
      "source": [
        "import random #import random library package for later in the code #PYTHON LIBRARY & PACKAGES\n",
        "\n",
        "string1 = \"This program is going to help determine your overall basketball efficiency\" #print string to let user know what code is about\n",
        "print(string1) #STRING OPERATION\n",
        "#FUNCTION\n",
        "def calculate_efficiency_and_categories(points,rebounds,assists,steals,blocks,missedFG,missedFT,turnovers,games_played): #Efficiency formula = (PTS + REB + AST + STL + BLK − Missed FG − Missed FT - TO) / GP  (formula by Martin Manley), found on: https://en.wikipedia.org/wiki/Efficiency_(basketball)#cite_note-1\n",
        "    efficiency = (points + rebounds + assists + steals + blocks - missedFG - missedFT - turnovers) / (games_played) #calculate based on inputs\n",
        "    print(f\"Your efficiency score is\", efficiency)\n",
        "    if efficiency >= 10:  #set boundaries of efficiency status based on value from equation #CONTROL STRUCTURE\n",
        "        print(\"You are a Starter. Hall of Fame bound!\")\n",
        "    elif efficiency >= 5:\n",
        "        print(\"Mediocre Player\")\n",
        "    else:\n",
        "        print(\"Improvement Needed\")\n",
        "#FUNCTION\n",
        "def give_recommendations():\n",
        "    shootingList = [\"around the world shooting game\"] #lists of exercises\n",
        "    reboundingList = [\"jumping, jump squats, burpees\"]\n",
        "    blockingList = [\"lunges\"]\n",
        "    for word in reboundingList: #CONTROL STRUCTURE\n",
        "        blockingList.append(word)\n",
        "    decision = input(\"Which of the following tips interest you the most: shooting, rebounding, blocking skills\") #ask which area they would like to improve and based on specific answer print corresponding list\n",
        "    if decision == \"shooting\": #CONTROL STRUCTURE\n",
        "        print(shootingList)\n",
        "    elif decision == \"rebounding\":\n",
        "        print(reboundingList)\n",
        "    elif decision == \"blocking\":\n",
        "        print(blockingList)\n",
        "    string3 = \"For motivation, we recommend completing a random amount of reps each day. Today's rep goal is: \"\n",
        "    print(string3)\n",
        "    print (random.randint(20,80)) #random rep goal with random library package #PYTHON LIBRARY & PACKAGES\n",
        "#FUNCTION\n",
        "def get_efficiency(): #call functions in order\n",
        "    points = float(input(\"How many points do you score per game? \")) #get inputs for formula\n",
        "    rebounds = float(input(\"How many rebounds do you have per game? \"))\n",
        "    assists = float(input(\"How many assists do you have per game? \"))\n",
        "    steals = float(input(\"How many steals do you have per game? \"))\n",
        "    blocks = float(input(\"How many blocks do you have per game? \"))\n",
        "    missedFG = float(input(\"How many missed field goals do you have per game? \"))\n",
        "    missedFT = float(input(\"How many missed free throws do you have per game? \"))\n",
        "    turnovers = float(input(\"How many turnovers do you have per game? \"))\n",
        "    games_played = int(input(\"How many games have you played \")) #this is the only integer input as the other inputs can be decimals if averaged out but games played will always be an integer\n",
        "    calculate_efficiency_and_categories(points,rebounds,assists,steals,blocks,missedFG,missedFT,turnovers,games_played)\n",
        "    give_recommendations()\n",
        "get_efficiency()\n",
        "string1_replaced = string1.replace(\"is going to help determine\", \"determined\") #replace initial string to show program completion\n",
        "print (string1_replaced) #STRING OPERATION\n",
        "\n"
      ],
      "metadata": {
        "colab": {
          "base_uri": "https://localhost:8080/"
        },
        "id": "4anLQn4YILh0",
        "outputId": "cf3367c2-75a2-433f-e4f0-06f108e7ff8f"
      },
      "execution_count": null,
      "outputs": [
        {
          "output_type": "stream",
          "name": "stdout",
          "text": [
            "This program is going to help determine your overall basketball efficiency\n",
            "How many points do you score per game? 5\n",
            "How many rebounds do you have per game? 5\n",
            "How many assists do you have per game? 5\n",
            "How many steals do you have per game? 5\n",
            "How many blocks do you have per game? 5\n",
            "How many missed field goals do you have per game? 5\n",
            "How many missed free throws do you have per game? 5\n",
            "How many turnovers do you have per game? 5\n",
            "How many games have you played 5\n",
            "Your efficiency score is 2.0\n",
            "You are a Starter. Hall of Fame bound!\n",
            "Which of the following tips interest you the most: shooting, rebounding, blocking skillsblocking\n",
            "['lunges', 'jumping, jump squats, burpees']\n",
            "For motivation, we recommend completing a random amount of reps each day. Today's rep goal is: \n",
            "25\n",
            "This program determined your overall basketball efficiency\n"
          ]
        }
      ]
    },
    {
      "cell_type": "markdown",
      "source": [
        "Pseudocode/Comments:\n",
        "0. START\n",
        "1. Import random (library) as we will be using it later into code\n",
        "2. Print string to tell users what code will be used for\n",
        "3. Create function to calculate efficiency plugging inputs into formula: (PTS + REB + AST + STL + BLK − Missed FG − Missed FT - TO) / GP\n",
        "5. Determines and print user's basketball efficiency based on value returned by formula\n",
        "6. Efficiency boundaries:\n",
        "if efficiency =>10 = \"starter\", =>5 = \"mediocre\", <5 = \"improvement needed\"\n",
        "7. Create function to provide recommendations\n",
        "8. Create lists of possible exercises for each area of improvement\n",
        "9. Create for loop to append items from rebounding exercises list to blocking list as they have similar exercises\n",
        "10. Prompt user for string input as to what specific tips they'd like\n",
        "11. Create if, else if, else statement to print specific list based on string input\n",
        "12. Advise users to do a random amount of reps for each exercise daily (use import random from beginning of code)\n",
        "13. Get user inputs of points,rebounds,assists,steals,blocks,missedFG,missedFT,turnovers,games_played\n",
        "13. Call functions to first calculate and print efficency score & category, and then give recommendations\n",
        "14. Call the function that is calling all the other functions\n",
        "14. To conclude, replace original string (with string.replace) to show process has been completed\n",
        "15. END\n",
        "\n",
        "\n"
      ],
      "metadata": {
        "id": "5sNtmxvZvNf4"
      }
    }
  ]
}